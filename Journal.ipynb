{
 "cells": [
  {
   "cell_type": "code",
   "execution_count": 17,
   "metadata": {},
   "outputs": [],
   "source": [
    "import math, statistics"
   ]
  },
  {
   "cell_type": "code",
   "execution_count": 43,
   "metadata": {},
   "outputs": [
    {
     "name": "stdout",
     "output_type": "stream",
     "text": [
      "z-score:  -4.04\n"
     ]
    }
   ],
   "source": [
    "\"\"\"\n",
    "TV watching                             | Yes                | No                | Total\n",
    "_________________________________________________________________________________________\n",
    "Less than 1 hour per day                |  5                 | 83                | 88\n",
    "_________________________________________________________________________________________\n",
    "At least 1 hour per day                 | 154                | 465               | 619\n",
    "\n",
    "\n",
    "H0 = mu1 - mu2 = 0\n",
    "Ha = mu1 - mu2 != 0\n",
    "\n",
    "H0 = watching TV for more than 1 hour associates with aggressive behaviour\n",
    "H1 = watching TV for more than 1 hour does not associates with aggressive behaviour\n",
    "\n",
    "\"\"\"\n",
    "\n",
    "less1Y, Less1N, less_total = 5, 83, 88\n",
    "more1Y, more1y, more_total = 154, 465, 619\n",
    "\n",
    "p_hat = (less1Y + more1Y) / (less_total + more_total)\n",
    "p_hat1 = less1Y / less_total\n",
    "p_hat2 = more1Y / more_total\n",
    "\n",
    "\n",
    "se = standard_error_sample_distribution = math.sqrt( p_hat * (1 - p_hat) * \n",
    "                ( (1 / less_total)\n",
    "                    +\n",
    "                  (1 / more_total)\n",
    "                )\n",
    ")\n",
    "\n",
    "z = ((p_hat1 - p_hat2) - 0) / se\n",
    "print(\"z-score: \",round(z,2))"
   ]
  },
  {
   "cell_type": "code",
   "execution_count": null,
   "metadata": {},
   "outputs": [],
   "source": [
    "# https://www.researchgate.net/publication/11440839_Television_Viewing_and_Aggressive_Behavior_During_Adolescence_and_Adulthood\n",
    "# https://www.nku.edu/~statistics/212_Test_of_Hypothesis_about_P1-P2.htm"
   ]
  },
  {
   "cell_type": "code",
   "execution_count": null,
   "metadata": {},
   "outputs": [],
   "source": []
  },
  {
   "cell_type": "code",
   "execution_count": null,
   "metadata": {},
   "outputs": [],
   "source": []
  },
  {
   "cell_type": "code",
   "execution_count": null,
   "metadata": {},
   "outputs": [],
   "source": []
  },
  {
   "cell_type": "code",
   "execution_count": null,
   "metadata": {},
   "outputs": [],
   "source": []
  }
 ],
 "metadata": {
  "kernelspec": {
   "display_name": "Python 3",
   "language": "python",
   "name": "python3"
  },
  "language_info": {
   "codemirror_mode": {
    "name": "ipython",
    "version": 3
   },
   "file_extension": ".py",
   "mimetype": "text/x-python",
   "name": "python",
   "nbconvert_exporter": "python",
   "pygments_lexer": "ipython3",
   "version": "3.8.5"
  }
 },
 "nbformat": 4,
 "nbformat_minor": 4
}
