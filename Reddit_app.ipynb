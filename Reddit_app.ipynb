{
 "cells": [
  {
   "cell_type": "markdown",
   "metadata": {
    "colab_type": "text",
    "id": "view-in-github"
   },
   "source": [
    "<a href=\"https://colab.research.google.com/github/edibegovic/ReflectionsDS/blob/main/Reddit_app.ipynb\" target=\"_parent\"><img src=\"https://colab.research.google.com/assets/colab-badge.svg\" alt=\"Open In Colab\"/></a>"
   ]
  },
  {
   "cell_type": "markdown",
   "metadata": {
    "id": "4nYIQNKA5UzR"
   },
   "source": [
    "#Reddit randomized controlled experiment"
   ]
  },
  {
   "cell_type": "code",
   "execution_count": 2,
   "metadata": {
    "id": "Dcz-lxjb1a7K"
   },
   "outputs": [],
   "source": [
    "import praw"
   ]
  },
  {
   "cell_type": "code",
   "execution_count": 3,
   "metadata": {
    "id": "LludUsmO1esG"
   },
   "outputs": [],
   "source": [
    "from pprint import pprint"
   ]
  },
  {
   "cell_type": "markdown",
   "metadata": {
    "id": "nAWxOIEK5ZCA"
   },
   "source": [
    "#Create a Reddit instance with PRAW"
   ]
  },
  {
   "cell_type": "code",
   "execution_count": 6,
   "metadata": {
    "id": "_8yG6Pwl4Mxh"
   },
   "outputs": [],
   "source": [
    "def user_login(client_id, client_secret,username,password,user_agent):\n",
    "    # reddit api login\n",
    "    reddit = praw.Reddit(client_id=client_id,\n",
    "                         client_secret=client_secret,\n",
    "                         username=username,\n",
    "                         password=password,\n",
    "                         user_agent=user_agent)\n",
    "    return reddit\n",
    "\n",
    "reddit = user_login('cHSklB8-UfqhKQ', 'FYwY4PylgJRvncTq2LtBpJBfCRRB0g','RareBodybuilder3469 ','sycQyb-suzfo0-fyfmag','Mozilla/5.0')"
   ]
  },
  {
   "cell_type": "markdown",
   "metadata": {
    "id": "SGcCl_MV5b6Z"
   },
   "source": [
    "Test if everything went fine by retriving a reddit post."
   ]
  },
  {
   "cell_type": "code",
   "execution_count": 14,
   "metadata": {
    "id": "e2aSqCHe4Nsz"
   },
   "outputs": [
    {
     "name": "stdout",
     "output_type": "stream",
     "text": [
      "Post title: Does anyone know this website?\n",
      "\n",
      "Post content: https://www.gominibags.shop/index.php?main_page=index\n",
      "It appeared on my ads on the internet as I was talking to my friends about buying a Furla bag\n",
      "There models I like, price is really good, but I haven’t seen this store before \n",
      "I also googled the address and it seems weird \n",
      "Can it be possible that they sell fakes from the USA? I heard it is not legal to sell fakes there \n",
      "Tell me your opinion and I really need an advice on a website where I can buy Italian brands that ship all over Europe 🙏🏻\n",
      "\n",
      "Post number os comments: 0\n",
      "\n",
      "Post url: https://www.reddit.com/r/Bags/comments/m3exkn/does_anyone_know_this_website/\n",
      "\n"
     ]
    }
   ],
   "source": [
    "#Reddit post: https://www.reddit.com/r/AskReddit/comments/lxcfo7/have_you_ever_met_a_really_intelligent_person_who/\n",
    "#id = lxcfo7\n",
    "submission = reddit.submission(\"m3exkn\")\n",
    "print('Post title: {}\\n'.format(submission.title))\n",
    "print('Post content: {}\\n'.format(submission.selftext))\n",
    "print('Post number os comments: {}\\n'.format(submission.num_comments))\n",
    "print('Post url: {}\\n'.format(submission.url))\n",
    "\n",
    "#search the API and print more information associate with the post."
   ]
  },
  {
   "cell_type": "markdown",
   "metadata": {
    "id": "aIqgcbGZ5jpg"
   },
   "source": [
    "#Upvote a post"
   ]
  },
  {
   "cell_type": "code",
   "execution_count": 15,
   "metadata": {
    "id": "mmjkx7uS4P9L"
   },
   "outputs": [
    {
     "name": "stdout",
     "output_type": "stream",
     "text": [
      "Score before upvoting : 1\n",
      "Score after upvoting : 1\n"
     ]
    }
   ],
   "source": [
    "submission = reddit.submission(id=\"m3exkn\")\n",
    "print(\"Score before upvoting : \" + str(submission.score)) \n",
    "submission.upvote()\n",
    "#Does work, but don't know why these results are the same.\n",
    "print(\"Score after upvoting : \" + str(submission.score)) "
   ]
  },
  {
   "cell_type": "markdown",
   "metadata": {
    "id": "8dlg3gTw5leo"
   },
   "source": [
    "#Get newly created posts"
   ]
  },
  {
   "cell_type": "code",
   "execution_count": null,
   "metadata": {
    "id": "eweNYyPk4Uvz"
   },
   "outputs": [],
   "source": [
    "#read the documentation: https://praw.readthedocs.io/en/latest/"
   ]
  }
 ],
 "metadata": {
  "colab": {
   "authorship_tag": "ABX9TyONp5b2BRaEfT5CqE/b/WW6",
   "collapsed_sections": [],
   "include_colab_link": true,
   "name": "Reddit_app.ipynb",
   "private_outputs": true,
   "provenance": []
  },
  "kernelspec": {
   "display_name": "Python 3",
   "language": "python",
   "name": "python3"
  },
  "language_info": {
   "codemirror_mode": {
    "name": "ipython",
    "version": 3
   },
   "file_extension": ".py",
   "mimetype": "text/x-python",
   "name": "python",
   "nbconvert_exporter": "python",
   "pygments_lexer": "ipython3",
   "version": "3.9.2"
  }
 },
 "nbformat": 4,
 "nbformat_minor": 1
}
