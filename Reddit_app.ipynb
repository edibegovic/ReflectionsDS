{
 "cells": [
  {
   "cell_type": "markdown",
   "metadata": {
    "colab_type": "text",
    "id": "view-in-github"
   },
   "source": [
    "<a href=\"https://colab.research.google.com/github/edibegovic/ReflectionsDS/blob/main/Reddit_app.ipynb\" target=\"_parent\"><img src=\"https://colab.research.google.com/assets/colab-badge.svg\" alt=\"Open In Colab\"/></a>"
   ]
  },
  {
   "cell_type": "markdown",
   "metadata": {
    "id": "4nYIQNKA5UzR"
   },
   "source": [
    "#Reddit randomized controlled experiment"
   ]
  },
  {
   "cell_type": "code",
   "execution_count": 2,
   "metadata": {
    "id": "Dcz-lxjb1a7K"
   },
   "outputs": [],
   "source": [
    "import praw"
   ]
  },
  {
   "cell_type": "code",
   "execution_count": 3,
   "metadata": {
    "id": "LludUsmO1esG"
   },
   "outputs": [],
   "source": [
    "from pprint import pprint"
   ]
  },
  {
   "cell_type": "markdown",
   "metadata": {
    "id": "nAWxOIEK5ZCA"
   },
   "source": [
    "#Create a Reddit instance with PRAW"
   ]
  },
  {
   "cell_type": "code",
   "execution_count": 6,
   "metadata": {
    "id": "_8yG6Pwl4Mxh"
   },
   "outputs": [],
   "source": [
    "def user_login(client_id, client_secret,username,password,user_agent):\n",
    "    # reddit api login\n",
    "    reddit = praw.Reddit(client_id=client_id,\n",
    "                         client_secret=client_secret,\n",
    "                         username=username,\n",
    "                         password=password,\n",
    "                         user_agent=user_agent)\n",
    "    return reddit\n",
    "\n",
    "reddit = user_login('cHSklB8-UfqhKQ', 'FYwY4PylgJRvncTq2LtBpJBfCRRB0g','RareBodybuilder3469 ','sycQyb-suzfo0-fyfmag','Mozilla/5.0')"
   ]
  },
  {
   "cell_type": "markdown",
   "metadata": {
    "id": "SGcCl_MV5b6Z"
   },
   "source": [
    "Test if everything went fine by retriving a reddit post."
   ]
  },
  {
   "cell_type": "code",
   "execution_count": 48,
   "metadata": {
    "id": "e2aSqCHe4Nsz"
   },
   "outputs": [
    {
     "name": "stdout",
     "output_type": "stream",
     "text": [
      "Post title: discerptive\n",
      "\n",
      "Post content: Post number:65021\n",
      "\n",
      "Votes: 1\n",
      "\n",
      "Post number os comments: 0\n",
      "\n",
      "Post url: https://www.reddit.com/r/manywords/comments/m3g60z/discerptive/\n",
      "\n"
     ]
    }
   ],
   "source": [
    "#Reddit post: https://www.reddit.com/r/AskReddit/comments/lxcfo7/have_you_ever_met_a_really_intelligent_person_who/\n",
    "#id = lxcfo7\n",
    "def print_post(user_id):\n",
    "    submission = reddit.submission(user_id)\n",
    "    print('Post title: {}\\n'.format(submission.title))\n",
    "    print('Post content: {}\\n'.format(submission.selftext))\n",
    "    print('Votes: {}\\n'.format(submission.score))\n",
    "    print('Post number os comments: {}\\n'.format(submission.num_comments))\n",
    "    print('Post url: {}\\n'.format(submission.url))\n",
    "    return None\n",
    "\n",
    "print_post(\"m3g60z\")\n",
    "#search the API and print more information associate with the post."
   ]
  },
  {
   "cell_type": "markdown",
   "metadata": {
    "id": "aIqgcbGZ5jpg"
   },
   "source": [
    "#Upvote a post"
   ]
  },
  {
   "cell_type": "code",
   "execution_count": 51,
   "metadata": {
    "id": "mmjkx7uS4P9L"
   },
   "outputs": [
    {
     "data": {
      "text/plain": [
       "(0, 2)"
      ]
     },
     "execution_count": 51,
     "metadata": {},
     "output_type": "execute_result"
    }
   ],
   "source": [
    "def upvote_single_post(user_id):\n",
    "    \"\"\"Return vote count before and after upvote.\"\"\"\n",
    "    submission = reddit.submission(id=user_id)\n",
    "    before = submission.score\n",
    "    submission.upvote()\n",
    "    #Does work, but don't know why these results are the same.\n",
    "    submission = reddit.submission(id=user_id)\n",
    "    after = submission.score\n",
    "    return before, after\n",
    "\n",
    "upvote_single_post(\"m3g60z\")"
   ]
  },
  {
   "cell_type": "markdown",
   "metadata": {
    "id": "8dlg3gTw5leo"
   },
   "source": [
    "#Get newly created posts"
   ]
  },
  {
   "cell_type": "code",
   "execution_count": 35,
   "metadata": {
    "id": "eweNYyPk4Uvz"
   },
   "outputs": [],
   "source": [
    "def upvote_onehundred_new_posts():\n",
    "    \"\"\"Return list of 100 user_id for upvoted posts.\"\"\"\n",
    "    one_hundred_new_posts = []\n",
    "    for post in reddit.subreddit('all').new():\n",
    "        try:\n",
    "            one_hundred_new_posts.append(post.id)\n",
    "            submission = reddit.submission(id=post.id)\n",
    "            submission.upvote()\n",
    "        except:\n",
    "            one_hundred_new_posts.remove(post.id)\n",
    "    return one_hundred_new_posts"
   ]
  },
  {
   "cell_type": "code",
   "execution_count": 36,
   "metadata": {},
   "outputs": [
    {
     "data": {
      "text/plain": [
       "['m3g617',\n",
       " 'm3g616',\n",
       " 'm3g614',\n",
       " 'm3g612',\n",
       " 'm3g611',\n",
       " 'm3g60z',\n",
       " 'm3g60y',\n",
       " 'm3g60v',\n",
       " 'm3g60u',\n",
       " 'm3g60r',\n",
       " 'm3g60k',\n",
       " 'm3g60j',\n",
       " 'm3g60i',\n",
       " 'm3g60h',\n",
       " 'm3g60e',\n",
       " 'm3g60d',\n",
       " 'm3g604',\n",
       " 'm3g602',\n",
       " 'm3g601',\n",
       " 'm3g600',\n",
       " 'm3g5zx',\n",
       " 'm3g5zv',\n",
       " 'm3g5zq',\n",
       " 'm3g5zn',\n",
       " 'm3g5zl',\n",
       " 'm3g5zh',\n",
       " 'm3g5ze',\n",
       " 'm3g5zc',\n",
       " 'm3g5z9',\n",
       " 'm3g5z8',\n",
       " 'm3g5z6',\n",
       " 'm3g5z5',\n",
       " 'm3g5z2',\n",
       " 'm3g5z0',\n",
       " 'm3g5yz',\n",
       " 'm3g5yy',\n",
       " 'm3g5yw',\n",
       " 'm3g5yv',\n",
       " 'm3g5yu',\n",
       " 'm3g5yt',\n",
       " 'm3g5yr',\n",
       " 'm3g5yq',\n",
       " 'm3g5ym',\n",
       " 'm3g5yk',\n",
       " 'm3g5yj',\n",
       " 'm3g5ye',\n",
       " 'm3g5yb',\n",
       " 'm3g5ya',\n",
       " 'm3g5y9',\n",
       " 'm3g5y7',\n",
       " 'm3g5y5',\n",
       " 'm3g5y4',\n",
       " 'm3g5y0',\n",
       " 'm3g5xv',\n",
       " 'm3g5xr',\n",
       " 'm3g5xq',\n",
       " 'm3g5xm',\n",
       " 'm3g5xl',\n",
       " 'm3g5xh',\n",
       " 'm3g5xg',\n",
       " 'm3g5xe',\n",
       " 'm3g5xc',\n",
       " 'm3g5xb',\n",
       " 'm3g5x8',\n",
       " 'm3g5x2',\n",
       " 'm3g5x1',\n",
       " 'm3g5x0',\n",
       " 'm3g5wy',\n",
       " 'm3g5ww',\n",
       " 'm3g5wv',\n",
       " 'm3g5ws',\n",
       " 'm3g5wr',\n",
       " 'm3g5wn',\n",
       " 'm3g5wm',\n",
       " 'm3g5wg',\n",
       " 'm3g5wf',\n",
       " 'm3g5wc',\n",
       " 'm3g5wb',\n",
       " 'm3g5w8',\n",
       " 'm3g5w7',\n",
       " 'm3g5w5',\n",
       " 'm3g5w3',\n",
       " 'm3g5w0',\n",
       " 'm3g5vy',\n",
       " 'm3g5vx',\n",
       " 'm3g5vu',\n",
       " 'm3g5vt',\n",
       " 'm3g5vn',\n",
       " 'm3g5vm',\n",
       " 'm3g5vl',\n",
       " 'm3g5vk',\n",
       " 'm3g5vh',\n",
       " 'm3g5vg',\n",
       " 'm3g5vd',\n",
       " 'm3g5vb',\n",
       " 'm3g5va',\n",
       " 'm3g5v5',\n",
       " 'm3g5v4',\n",
       " 'm3g5v2',\n",
       " 'm3g5v1']"
      ]
     },
     "execution_count": 36,
     "metadata": {},
     "output_type": "execute_result"
    }
   ],
   "source": [
    "upvote_onehundred_new_posts"
   ]
  },
  {
   "cell_type": "code",
   "execution_count": null,
   "metadata": {},
   "outputs": [],
   "source": []
  }
 ],
 "metadata": {
  "colab": {
   "authorship_tag": "ABX9TyONp5b2BRaEfT5CqE/b/WW6",
   "collapsed_sections": [],
   "include_colab_link": true,
   "name": "Reddit_app.ipynb",
   "private_outputs": true,
   "provenance": []
  },
  "kernelspec": {
   "display_name": "Python 3",
   "language": "python",
   "name": "python3"
  },
  "language_info": {
   "codemirror_mode": {
    "name": "ipython",
    "version": 3
   },
   "file_extension": ".py",
   "mimetype": "text/x-python",
   "name": "python",
   "nbconvert_exporter": "python",
   "pygments_lexer": "ipython3",
   "version": "3.9.2"
  }
 },
 "nbformat": 4,
 "nbformat_minor": 1
}
