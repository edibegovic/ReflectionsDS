{
 "cells": [
  {
   "cell_type": "markdown",
   "metadata": {
    "colab_type": "text",
    "id": "view-in-github"
   },
   "source": [
    "<a href=\"https://colab.research.google.com/github/edibegovic/ReflectionsDS/blob/main/Reddit_app.ipynb\" target=\"_parent\"><img src=\"https://colab.research.google.com/assets/colab-badge.svg\" alt=\"Open In Colab\"/></a>"
   ]
  },
  {
   "cell_type": "markdown",
   "metadata": {
    "id": "4nYIQNKA5UzR"
   },
   "source": [
    "#Reddit randomized controlled experiment"
   ]
  },
  {
   "cell_type": "code",
   "execution_count": 2,
   "metadata": {
    "id": "Dcz-lxjb1a7K"
   },
   "outputs": [],
   "source": [
    "import praw"
   ]
  },
  {
   "cell_type": "code",
   "execution_count": 3,
   "metadata": {
    "id": "LludUsmO1esG"
   },
   "outputs": [],
   "source": [
    "from pprint import pprint"
   ]
  },
  {
   "cell_type": "markdown",
   "metadata": {
    "id": "nAWxOIEK5ZCA"
   },
   "source": [
    "#Create a Reddit instance with PRAW"
   ]
  },
  {
   "cell_type": "code",
   "execution_count": 6,
   "metadata": {
    "id": "_8yG6Pwl4Mxh"
   },
   "outputs": [],
   "source": [
    "def user_login(client_id, client_secret,username,password,user_agent):\n",
    "    # reddit api login\n",
    "    reddit = praw.Reddit(client_id=client_id,\n",
    "                         client_secret=client_secret,\n",
    "                         username=username,\n",
    "                         password=password,\n",
    "                         user_agent=user_agent)\n",
    "    return reddit\n",
    "\n",
    "reddit = user_login('cHSklB8-UfqhKQ', 'FYwY4PylgJRvncTq2LtBpJBfCRRB0g','RareBodybuilder3469 ','sycQyb-suzfo0-fyfmag','Mozilla/5.0')"
   ]
  },
  {
   "cell_type": "markdown",
   "metadata": {
    "id": "SGcCl_MV5b6Z"
   },
   "source": [
    "Test if everything went fine by retriving a reddit post."
   ]
  },
  {
   "cell_type": "code",
   "execution_count": 7,
   "metadata": {
    "id": "e2aSqCHe4Nsz"
   },
   "outputs": [
    {
     "name": "stdout",
     "output_type": "stream",
     "text": [
      "Post title: Have you ever met a really intelligent person who didn’t really know how smart they were? What was your experience with them?\n",
      "\n",
      "Post content: \n",
      "\n",
      "Post number os comments: 7058\n",
      "\n",
      "Post url: https://www.reddit.com/r/AskReddit/comments/lxcfo7/have_you_ever_met_a_really_intelligent_person_who/\n",
      "\n"
     ]
    }
   ],
   "source": [
    "#Reddit post: https://www.reddit.com/r/AskReddit/comments/lxcfo7/have_you_ever_met_a_really_intelligent_person_who/\n",
    "#id = lxcfo7\n",
    "submission = reddit.submission(\"lxcfo7\")\n",
    "print('Post title: {}\\n'.format(submission.title))\n",
    "print('Post content: {}\\n'.format(submission.selftext))\n",
    "print('Post number os comments: {}\\n'.format(submission.num_comments))\n",
    "print('Post url: {}\\n'.format(submission.url))\n",
    "\n",
    "#search the API and print more information associate with the post."
   ]
  },
  {
   "cell_type": "markdown",
   "metadata": {
    "id": "aIqgcbGZ5jpg"
   },
   "source": [
    "#Upvote a post"
   ]
  },
  {
   "cell_type": "code",
   "execution_count": null,
   "metadata": {
    "id": "mmjkx7uS4P9L"
   },
   "outputs": [],
   "source": [
    "#read the documentation: https://praw.readthedocs.io/en/latest/"
   ]
  },
  {
   "cell_type": "markdown",
   "metadata": {
    "id": "8dlg3gTw5leo"
   },
   "source": [
    "#Get newly created posts"
   ]
  },
  {
   "cell_type": "code",
   "execution_count": null,
   "metadata": {
    "id": "eweNYyPk4Uvz"
   },
   "outputs": [],
   "source": [
    "#read the documentation: https://praw.readthedocs.io/en/latest/"
   ]
  }
 ],
 "metadata": {
  "colab": {
   "authorship_tag": "ABX9TyONp5b2BRaEfT5CqE/b/WW6",
   "collapsed_sections": [],
   "include_colab_link": true,
   "name": "Reddit_app.ipynb",
   "private_outputs": true,
   "provenance": []
  },
  "kernelspec": {
   "display_name": "Python 3",
   "language": "python",
   "name": "python3"
  },
  "language_info": {
   "codemirror_mode": {
    "name": "ipython",
    "version": 3
   },
   "file_extension": ".py",
   "mimetype": "text/x-python",
   "name": "python",
   "nbconvert_exporter": "python",
   "pygments_lexer": "ipython3",
   "version": "3.9.2"
  }
 },
 "nbformat": 4,
 "nbformat_minor": 1
}
