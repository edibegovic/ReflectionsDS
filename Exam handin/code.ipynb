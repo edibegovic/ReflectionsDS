{
 "cells": [
  {
   "cell_type": "markdown",
   "metadata": {},
   "source": [
    "# Part 1: Scraping"
   ]
  },
  {
   "cell_type": "markdown",
   "metadata": {},
   "source": [
    "The below code was built to be run as a Python file and as a one-daily-run solution."
   ]
  },
  {
   "cell_type": "code",
   "execution_count": 15,
   "metadata": {},
   "outputs": [],
   "source": [
    "import praw\n",
    "import random\n",
    "import pandas as pd\n",
    "import datetime\n",
    "from time import sleep\n",
    "from prawcore.exceptions import Forbidden\n",
    "import matplotlib.pyplot as plt\n",
    "from collections import Counter\n",
    "from scipy.stats import chisquare"
   ]
  },
  {
   "cell_type": "code",
   "execution_count": 5,
   "metadata": {},
   "outputs": [],
   "source": [
    "# Define amount of controla and experiment groups to scrape.\n",
    "number_of_posts = 100\n",
    "# File name for scraped posts.\n",
    "file_name = \"Data/reddit_experiment_with_comments_test_0.pickle\""
   ]
  },
  {
   "cell_type": "markdown",
   "metadata": {},
   "source": [
    "Define login parameters"
   ]
  },
  {
   "cell_type": "code",
   "execution_count": 6,
   "metadata": {},
   "outputs": [],
   "source": [
    "def user_login(client_id, client_secret, username, password, user_agent):\n",
    "    reddit = praw.Reddit(\n",
    "        client_id=client_id,\n",
    "        client_secret=client_secret,\n",
    "        username=username,\n",
    "        password=password,\n",
    "        user_agent=user_agent,\n",
    "    )\n",
    "    return reddit\n",
    "\n",
    "\n",
    "reddit = user_login(\n",
    "    \"secret :)\",\n",
    "    \"secret :)\",\n",
    "    \"RareBodybuilder3469\",\n",
    "    \"secret :)\",\n",
    "    \"Mozilla/5.0\",\n",
    ")"
   ]
  },
  {
   "cell_type": "markdown",
   "metadata": {},
   "source": [
    "Function to upvote posts"
   ]
  },
  {
   "cell_type": "code",
   "execution_count": 7,
   "metadata": {},
   "outputs": [],
   "source": [
    "def upvote_single_post(user_id):\n",
    "    submission = reddit.submission(id=user_id)\n",
    "    try:\n",
    "        submission.upvote()\n",
    "    except:\n",
    "        return 0"
   ]
  },
  {
   "cell_type": "markdown",
   "metadata": {},
   "source": [
    "Get x (number_of_posts) amount of random new posts from the \"all\" SubReddit."
   ]
  },
  {
   "cell_type": "code",
   "execution_count": 8,
   "metadata": {},
   "outputs": [],
   "source": [
    "def get_onehundred_new_posts():\n",
    "    one_hundred_new_posts = []\n",
    "    for post in reddit.subreddit(\"all\").new():\n",
    "        try:\n",
    "            one_hundred_new_posts.append(post.id)\n",
    "            submission = reddit.submission(id=post.id)\n",
    "        except:\n",
    "            one_hundred_new_posts.remove(post.id)\n",
    "    return one_hundred_new_posts"
   ]
  },
  {
   "cell_type": "markdown",
   "metadata": {},
   "source": [
    "Check if file exists (With previous days dataframe), if not then defind a new dataframe with columns."
   ]
  },
  {
   "cell_type": "code",
   "execution_count": 6,
   "metadata": {},
   "outputs": [],
   "source": [
    "try:\n",
    "    df = pd.read_pickle(file_name)\n",
    "except FileNotFoundError:\n",
    "    df = pd.DataFrame(\n",
    "        columns=[\n",
    "            \"start_date\",\n",
    "            \"post_id\",\n",
    "            \"group\",\n",
    "            \"day_0\",\n",
    "            \"day_1\",\n",
    "            \"day_2\",\n",
    "            \"day_3\",\n",
    "            \"day_4\",\n",
    "            \"day_5\",\n",
    "            \"day_6\",\n",
    "            \"day_0_comments\",\n",
    "            \"day_1_comments\",\n",
    "            \"day_2_comments\",\n",
    "            \"day_3_comments\",\n",
    "            \"day_4_comments\",\n",
    "            \"day_5_comments\",\n",
    "            \"day_6_comments\",\n",
    "        ]\n",
    "    )"
   ]
  },
  {
   "cell_type": "markdown",
   "metadata": {},
   "source": [
    "Check if today > day_0 + 7, if then only run the update (Vote and comment count) loop if not then also run loop to pull new posts."
   ]
  },
  {
   "cell_type": "code",
   "execution_count": 7,
   "metadata": {},
   "outputs": [],
   "source": [
    "today = datetime.date.today()\n",
    "count_ex = 0\n",
    "count_con = 0\n",
    "error_list = []\n",
    "\n",
    "try:\n",
    "    loop = (min(df[\"start_date\"]) + datetime.timedelta(days=6)) <= today or len(df[\"start_date\"]) != 1800\n",
    "except:\n",
    "    loop = True"
   ]
  },
  {
   "cell_type": "markdown",
   "metadata": {},
   "source": [
    "Function to retry upvote, should it fail. "
   ]
  },
  {
   "cell_type": "code",
   "execution_count": 8,
   "metadata": {},
   "outputs": [],
   "source": [
    "def upvote_retry(post_id):\n",
    "    try:\n",
    "        upvote = upvote_single_post(post_id)\n",
    "        return upvote\n",
    "    except:\n",
    "        sleep(60)\n",
    "        return 1"
   ]
  },
  {
   "cell_type": "markdown",
   "metadata": {},
   "source": [
    "Loop to initialize new rows for control and experiment posts, also check that posts have no upvotes and comments."
   ]
  },
  {
   "cell_type": "code",
   "execution_count": null,
   "metadata": {},
   "outputs": [],
   "source": [
    "if loop:\n",
    "    while count_ex != number_of_posts and count_con != number_of_posts:\n",
    "        # if len(error_list) == 10:\n",
    "        #     break\n",
    "        print(f\"New post progress {round(((count_ex + count_con)/(number_of_posts * 2))*100, 2)}%\", end='\\r')\n",
    "        posts = get_onehundred_new_posts()\n",
    "        for post_id in posts:\n",
    "            if post_id not in df[\"post_id\"] and post_id not in df[\"post_id\"]:\n",
    "                submission = reddit.submission(post_id)\n",
    "                com = submission.num_comments\n",
    "                if submission.score == 1 and com == 0:\n",
    "                    if random.randint(0, 1) and count_ex != number_of_posts:\n",
    "                        upvote = 1\n",
    "                        while upvote == 1:\n",
    "                            upvote = upvote_retry(post_id)\n",
    "                        if upvote != 0:\n",
    "                            df.loc[len(df)] = [today, post_id, \"experiment\", 2, 0, 0, 0, 0, 0, 0, 0, 0, 0, 0, 0, 0, 0]\n",
    "                            count_ex += 1\n",
    "                            print(f\"New post progress {round(((count_ex + count_con)/(number_of_posts * 2))*100, 2)}%\", end='\\r')\n",
    "                        else:\n",
    "                            error_list.append(0)\n",
    "                            print(\"Sleeping... Please wait.\", end='\\r')\n",
    "                            sleep(60)\n",
    "                    elif count_con != number_of_posts:\n",
    "                        df.loc[len(df)] = [today, post_id, \"control\", 1, 0, 0, 0, 0, 0, 0, 0, 0, 0, 0, 0, 0, 0]\n",
    "                        count_con += 1\n",
    "                        print(f\"New post progress {round(((count_ex + count_con)/(number_of_posts * 2))*100, 2)}%\", end='\\r')"
   ]
  },
  {
   "cell_type": "markdown",
   "metadata": {},
   "source": [
    "Update the previously pulled data. Also contains conditions to manage Reddit denying requests."
   ]
  },
  {
   "cell_type": "code",
   "execution_count": null,
   "metadata": {},
   "outputs": [],
   "source": [
    "\n",
    "if today <= (max(df[\"start_date\"]) + datetime.timedelta(days=6)):\n",
    "    for index, row in df.iterrows():\n",
    "        print(f\"Updating progress {round((index/(len(df. index))*100), 2)}%\", end='\\r')\n",
    "        if today <= (row[\"start_date\"] + datetime.timedelta(days=6)):\n",
    "            try:\n",
    "                submission = reddit.submission(row[\"post_id\"])\n",
    "            except:\n",
    "                print(\"Sleeping... Please wait.\", end='\\r')\n",
    "                sleep(10)\n",
    "                submission = reddit.submission(row[\"post_id\"])\n",
    "            if (row[\"start_date\"] + datetime.timedelta(days=1)) == today:\n",
    "                try:\n",
    "                    df.loc[index, \"day_1\"] = submission.score\n",
    "                    df.loc[index, \"day_1_comments\"] = submission.num_comments\n",
    "                except:\n",
    "                    print(\"Sleeping... Please wait.\", end='\\r')\n",
    "                    sleep(10)\n",
    "                    try:\n",
    "                        df.loc[index, \"day_1\"] = submission.score\n",
    "                        df.loc[index, \"day_1_comments\"] = submission.num_comments\n",
    "                    except Forbidden:\n",
    "                        df.loc[index, \"day_1\"] =  df.loc[index, \"day_0\"]\n",
    "                        df.loc[index, \"day_1_comments\"] =  df.loc[index, \"day_0_comments\"]\n",
    "            elif (row[\"start_date\"] + datetime.timedelta(days=2)) == today:\n",
    "                try:\n",
    "                    df.loc[index, \"day_2\"] = submission.score\n",
    "                    df.loc[index, \"day_2_comments\"] = submission.num_comments\n",
    "                except:\n",
    "                    print(\"Sleeping... Please wait.\", end='\\r')\n",
    "                    sleep(10)\n",
    "                    try:\n",
    "                        df.loc[index, \"day_2\"] = submission.score\n",
    "                        df.loc[index, \"day_2_comments\"] = submission.num_comments\n",
    "                    except Forbidden:\n",
    "                        df.loc[index, \"day_2\"] =  df.loc[index, \"day_1\"]\n",
    "                        df.loc[index, \"day_2_comments\"] =  df.loc[index, \"day_1_comments\"]\n",
    "            elif (row[\"start_date\"] + datetime.timedelta(days=3)) == today:\n",
    "                try:\n",
    "                    df.loc[index, \"day_3\"] = submission.score\n",
    "                    df.loc[index, \"day_3_comments\"] = submission.num_comments\n",
    "                except:\n",
    "                    print(\"Sleeping... Please wait.\", end='\\r')\n",
    "                    sleep(10)\n",
    "                    try:\n",
    "                        df.loc[index, \"day_3\"] = submission.score\n",
    "                        df.loc[index, \"day_3_comments\"] = submission.num_comments\n",
    "                    except Forbidden:\n",
    "                        df.loc[index, \"day_3\"] =  df.loc[index, \"day_2\"]\n",
    "                        df.loc[index, \"day_3_comments\"] =  df.loc[index, \"day_2_comments\"]\n",
    "            elif (row[\"start_date\"] + datetime.timedelta(days=4)) == today:\n",
    "                try:\n",
    "                    df.loc[index, \"day_4\"] = submission.score\n",
    "                    df.loc[index, \"day_4_comments\"] = submission.num_comments\n",
    "                except:\n",
    "                    print(\"Sleeping... Please wait.\", end='\\r')\n",
    "                    sleep(10)\n",
    "                    try:\n",
    "                        df.loc[index, \"day_4\"] = submission.score\n",
    "                        df.loc[index, \"day_4_comments\"] = submission.num_comments\n",
    "                    except Forbidden:\n",
    "                        df.loc[index, \"day_4\"] =  df.loc[index, \"day_3\"]\n",
    "                        df.loc[index, \"day_4_comments\"] =  df.loc[index, \"day_3_comments\"]\n",
    "            elif (row[\"start_date\"] + datetime.timedelta(days=5)) == today:\n",
    "                try:\n",
    "                    df.loc[index, \"day_5\"] = submission.score\n",
    "                    df.loc[index, \"day_5_comments\"] = submission.num_comments\n",
    "                except:\n",
    "                    print(\"Sleeping... Please wait.\", end='\\r')\n",
    "                    sleep(10)\n",
    "                    try:\n",
    "                        df.loc[index, \"day_5\"] = submission.score\n",
    "                        df.loc[index, \"day_5_comments\"] = submission.num_comments\n",
    "                    except Forbidden:\n",
    "                        df.loc[index, \"day_5\"] =  df.loc[index, \"day_4\"]\n",
    "                        df.loc[index, \"day_5_comments\"] =  df.loc[index, \"day_4_comments\"]\n",
    "            elif (row[\"start_date\"] + datetime.timedelta(days=6)) == today:\n",
    "                try:\n",
    "                    df.loc[index, \"day_6\"] = submission.score\n",
    "                    df.loc[index, \"day_6_comments\"] = submission.num_comments\n",
    "                except:\n",
    "                    print(\"Sleeping... Please wait.\", end='\\r')\n",
    "                    sleep(10)\n",
    "                    try:\n",
    "                        df.loc[index, \"day_6\"] = submission.score\n",
    "                        df.loc[index, \"day_6_comments\"] = submission.num_comments\n",
    "                    except Forbidden:\n",
    "                        df.loc[index, \"day_6\"] =  df.loc[index, \"day_5\"]\n",
    "                        df.loc[index, \"day_6_comments\"] =  df.loc[index, \"day_5_comments\"]"
   ]
  },
  {
   "cell_type": "markdown",
   "metadata": {},
   "source": [
    "Save progress to file."
   ]
  },
  {
   "cell_type": "code",
   "execution_count": null,
   "metadata": {},
   "outputs": [],
   "source": [
    "df.to_pickle(file_name)"
   ]
  },
  {
   "cell_type": "markdown",
   "metadata": {},
   "source": [
    "# Part 2: Analysis"
   ]
  },
  {
   "cell_type": "markdown",
   "metadata": {},
   "source": [
    "Reading the 'pickled' dataframe from the scraping step prior"
   ]
  },
  {
   "cell_type": "code",
   "execution_count": 2,
   "metadata": {},
   "outputs": [],
   "source": [
    "df = pd.read_pickle(r'Data/reddit_experiment_with_comments_cut.pickle')"
   ]
  },
  {
   "cell_type": "markdown",
   "metadata": {},
   "source": [
    "We extract the final post scores and split them up as *control* and *treatment* groups"
   ]
  },
  {
   "cell_type": "code",
   "execution_count": 18,
   "metadata": {},
   "outputs": [],
   "source": [
    "control = df[df['group'] == 'control']['day_6']\n",
    "experiment = df[df['group'] == 'experiment']['day_6'][:len(control)]"
   ]
  },
  {
   "cell_type": "markdown",
   "metadata": {},
   "source": [
    "We check the distribution of upvotes"
   ]
  },
  {
   "cell_type": "code",
   "execution_count": 19,
   "metadata": {},
   "outputs": [
    {
     "data": {
      "image/png": "[encoded data removed]",
      "text/plain": [
       "<Figure size 432x288 with 1 Axes>"
      ]
     },
     "metadata": {
      "needs_background": "light"
     },
     "output_type": "display_data"
    }
   ],
   "source": [
    "bins=range(10)\n",
    "plt.hist([control, experiment], bins, density=True, label=['Control', 'Treatment'])\n",
    "plt.legend(loc='upper right')\n",
    "plt.xlabel('Upvotes')\n",
    "plt.ylabel('Posts')\n",
    "plt.show()"
   ]
  },
  {
   "cell_type": "markdown",
   "metadata": {},
   "source": [
    "## Binomial test"
   ]
  },
  {
   "cell_type": "markdown",
   "metadata": {},
   "source": [
    "We either deem a post successfull/unsuccessfull based on a threshold of the score; in our case a score of 10 points or more."
   ]
  },
  {
   "cell_type": "code",
   "execution_count": 20,
   "metadata": {},
   "outputs": [],
   "source": [
    "control_counts = Counter([1 if a >= 10 else 0 for a in control])\n",
    "experiment_counts = Counter([1 if a >= 10 else 0 for a in experiment])\n",
    "\n",
    "control_totals = [control_counts[0], control_counts[1]]\n",
    "experiment_totals = [experiment_counts[0], experiment_counts[1]]"
   ]
  },
  {
   "cell_type": "markdown",
   "metadata": {},
   "source": [
    "Chi-square test of proportions"
   ]
  },
  {
   "cell_type": "code",
   "execution_count": 21,
   "metadata": {},
   "outputs": [
    {
     "data": {
      "text/plain": [
       "Power_divergenceResult(statistic=3.830531964668018, pvalue=0.05032695754533978)"
      ]
     },
     "execution_count": 21,
     "metadata": {},
     "output_type": "execute_result"
    }
   ],
   "source": [
    "chisquare(control_totals, f_exp=experiment_totals)"
   ]
  }
 ],
 "metadata": {
  "kernelspec": {
   "display_name": "Python 3",
   "language": "python",
   "name": "python3"
  },
  "language_info": {
   "codemirror_mode": {
    "name": "ipython",
    "version": 3
   },
   "file_extension": ".py",
   "mimetype": "text/x-python",
   "name": "python",
   "nbconvert_exporter": "python",
   "pygments_lexer": "ipython3",
   "version": "3.8.5"
  },
  "metadata": {
   "interpreter": {
    "hash": "23849b1db6bb2331be95fa74417bb527b8d94b1d172b2da2b0963cf5173e022c"
   }
  }
 },
 "nbformat": 4,
 "nbformat_minor": 2
}
